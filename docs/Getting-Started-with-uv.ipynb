{
 "cells": [
  {
   "cell_type": "markdown",
   "id": "2578facf-98d2-45db-ae9b-a40494f1867b",
   "metadata": {},
   "source": [
    "# Getting Started with `uv`\n",
    "\n",
    "## Table of Contents\n",
    "1. Installation steps\n",
    "   - Windows\n",
    "   - Linux\n",
    "2. Basic Commands\n",
    "3. Setup environment\n",
    "   - Steps to initiate environment\n",
    "   - How to add dependencies in `pyproject.toml`\n",
    "4. Migrate Pytorch XPU backend from `pip` to `uv`\n"
   ]
  },
  {
   "cell_type": "markdown",
   "id": "50b170a4-b97a-4ac3-8f11-74c3eec9c282",
   "metadata": {},
   "source": [
    "## Installation Steps\n",
    "You can install uv using standalone installer(recommended) or any package managers of your choice. Refer [this documentation](https://docs.astral.sh/uv/getting-started/installation/) for more!"
   ]
  },
  {
   "cell_type": "markdown",
   "id": "28262f47-e223-42d3-9fd4-f545b6333e30",
   "metadata": {},
   "source": [
    "### Windows\n",
    "Run the below command\n",
    "```bash\n",
    "powershell -ExecutionPolicy ByPass -c \"irm https://astral.sh/uv/install.ps1 | iex\"\n",
    "```\n",
    "```bash\n",
    "uv\n",
    "```\n",
    "> Restart the kernel if you encounter uv unavailability in the terminal"
   ]
  },
  {
   "cell_type": "markdown",
   "id": "2d6ac537-eb00-41f1-a59d-1a537b281ad8",
   "metadata": {},
   "source": [
    "### Linux\n",
    "Run the below command\n",
    "- Use curl to download the script and execute it with sh:\n",
    "```bash\n",
    "curl -LsSf https://astral.sh/uv/install.sh | sh\n",
    "```\n",
    "\n",
    "- If your system doesn't have curl, you can use wget:\n",
    "```bash\n",
    "wget -qO- https://astral.sh/uv/install.sh | sh\n",
    "```\n",
    "```bash\n",
    "uv\n",
    "```\n",
    "> Restart the kernel if you encounter uv unavailability in the terminal"
   ]
  },
  {
   "cell_type": "markdown",
   "id": "4a76fc69-f5db-4d25-b2c8-c16ff1db5f10",
   "metadata": {},
   "source": [
    "See the documentation on [installer configuration](https://docs.astral.sh/uv/configuration/installer/) for details on customizing your uv installation."
   ]
  },
  {
   "cell_type": "markdown",
   "id": "be9ad1bf-233b-4f36-ae88-9538f8c392ba",
   "metadata": {},
   "source": [
    "## Basic Commands"
   ]
  },
  {
   "cell_type": "markdown",
   "id": "10a19722-e55a-4227-ad0d-a7383d8822ef",
   "metadata": {},
   "source": [
    "### Creating and working on Python projects, i.e., with a pyproject.toml.\n",
    "\n",
    "- `uv init`: Create a new Python project.\n",
    "- `uv add`: Add a dependency to the project.\n",
    "- `uv remove`: Remove a dependency from the project.\n",
    "- `uv sync`: Sync the project's dependencies with the environment.\n",
    "- `uv venv`: Create a virtual environment.\n",
    "- `uv lock`: Create a lockfile for the project's dependencies.\n",
    "- `uv run`: Run a command in the project environment.\n",
    "- `uv tree`: View the dependency tree for the project.\n",
    "- `uv build`: Build the project into distribution archives.\n",
    "- `uv publish`: Publish the project to a package index.\n",
    "- `uv clean`: Remove cache entries.\n",
    "- `uv self update`: Update uv to the latest version.\n",
    "See the guide on projects to get started."
   ]
  },
  {
   "cell_type": "markdown",
   "id": "dbadbcf8-9c63-4efc-b3e1-9abffc037067",
   "metadata": {},
   "source": [
    "## Setup Environment\n",
    "\n",
    "### Basic steps to Initiate a `uv` environment.\n",
    "`uv init`\n",
    "#### Install packages\n",
    "`uv add <dependency/package name>`\n",
    "`uv sync`\n",
    "#### verify dependencies\n",
    "`uv tree` \n",
    "##### Launch a jupyter notebook\n",
    "`uv run jupyter-lab`\n",
    "`uv run jupyter lab`"
   ]
  },
  {
   "cell_type": "markdown",
   "id": "9a956f3d-51cc-4f4c-a78e-4de29aca6d5a",
   "metadata": {},
   "source": [
    "### How to add dependencies in `pyproject.toml`"
   ]
  },
  {
   "cell_type": "code",
   "execution_count": null,
   "id": "500aa1be-52fb-4a73-8a75-f30fe442cb08",
   "metadata": {},
   "outputs": [],
   "source": [
    "[project]\n",
    "name = \"project\"\n",
    "version = \"0.1.0\"\n",
    "requires-python = \">=3.12.0\"\n",
    "dependencies = [\n",
    "  dependency1>=\"1.2.3\",\n",
    "  dependency2>=\"1.2.3\",  \n",
    "]\n",
    "\n",
    "[tool.uv.sources]\n",
    "...\n",
    "\n",
    "[[tool.uv.index]]\n",
    "...\n"
   ]
  },
  {
   "cell_type": "markdown",
   "id": "33c79b8a-8ff8-4329-b804-fe0d97b48af5",
   "metadata": {},
   "source": [
    "## Migrate PyTorch XPU backend from `pip` to `uv`"
   ]
  },
  {
   "cell_type": "code",
   "execution_count": null,
   "id": "9b6f82c8-171d-4e68-be34-4ab344b94a2a",
   "metadata": {},
   "outputs": [],
   "source": [
    "[project]\n",
    "name = \"project\"\n",
    "version = \"0.1.0\"\n",
    "requires-python = \">=3.12.0\"\n",
    "dependencies = [\n",
    "  \"torch>=2.7.0\",\n",
    "  \"torchvision>=0.22.0\",\n",
    "  \"pytorch-triton-xpu>=3.3.0 ; sys_platform == 'win32' or sys_platform == 'linux'\",\n",
    "]\n",
    "\n",
    "[tool.uv.sources]\n",
    "torch = [\n",
    "  { index = \"pytorch-xpu\", marker = \"sys_platform == 'win32' or sys_platform == 'linux'\" },\n",
    "]\n",
    "torchvision = [\n",
    "  { index = \"pytorch-xpu\", marker = \"sys_platform == 'win32' or sys_platform == 'linux'\" },\n",
    "]\n",
    "pytorch-triton-xpu = [\n",
    "  { index = \"pytorch-xpu\", marker = \"sys_platform == 'win32' or sys_platform == 'linux'\" },\n",
    "]\n",
    "\n",
    "[[tool.uv.index]]\n",
    "name = \"pytorch-xpu\"\n",
    "url = \"https://download.pytorch.org/whl/xpu\"\n",
    "explicit = true"
   ]
  }
 ],
 "metadata": {
  "kernelspec": {
   "display_name": "Python 3 (ipykernel)",
   "language": "python",
   "name": "python3"
  },
  "language_info": {
   "codemirror_mode": {
    "name": "ipython",
    "version": 3
   },
   "file_extension": ".py",
   "mimetype": "text/x-python",
   "name": "python",
   "nbconvert_exporter": "python",
   "pygments_lexer": "ipython3",
   "version": "3.12.5"
  }
 },
 "nbformat": 4,
 "nbformat_minor": 5
}
